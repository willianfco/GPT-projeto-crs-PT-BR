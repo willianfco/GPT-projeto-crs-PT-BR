{
 "cells": [
  {
   "cell_type": "code",
   "execution_count": 1,
   "metadata": {},
   "outputs": [
    {
     "name": "stdout",
     "output_type": "stream",
     "text": [
      "total de linhas: 18460\n",
      "Total de mensagens traduzidas: 1871\n",
      "Total de mensagens não traduzidas: 16589\n"
     ]
    }
   ],
   "source": [
    "import pandas as pd\n",
    "\n",
    "df = pd.read_parquet('data/processed/interim/interim_translated_ds_006.parquet')\n",
    "print(f'total de linhas: {len(df)}')\n",
    "\n",
    "non_translated_count = df['text_translated'].isna().sum()\n",
    "translated_count = len(df) - non_translated_count\n",
    "\n",
    "print(f'Total de mensagens traduzidas: {translated_count}')\n",
    "print(f'Total de mensagens não traduzidas: {non_translated_count}')\n"
   ]
  },
  {
   "cell_type": "code",
   "execution_count": 13,
   "metadata": {},
   "outputs": [
    {
     "data": {
      "text/html": [
       "<style type=\"text/css\">\n",
       "</style>\n",
       "<table id=\"T_6fe78\">\n",
       "  <thead>\n",
       "    <tr>\n",
       "      <th class=\"blank level0\" >&nbsp;</th>\n",
       "      <th id=\"T_6fe78_level0_col0\" class=\"col_heading level0 col0\" >movieMentions</th>\n",
       "      <th id=\"T_6fe78_level0_col1\" class=\"col_heading level0 col1\" >respondentQuestions</th>\n",
       "      <th id=\"T_6fe78_level0_col2\" class=\"col_heading level0 col2\" >conversationId</th>\n",
       "      <th id=\"T_6fe78_level0_col3\" class=\"col_heading level0 col3\" >respondentWorkerId</th>\n",
       "      <th id=\"T_6fe78_level0_col4\" class=\"col_heading level0 col4\" >initiatorWorkerId</th>\n",
       "      <th id=\"T_6fe78_level0_col5\" class=\"col_heading level0 col5\" >initiatorQuestions</th>\n",
       "      <th id=\"T_6fe78_level0_col6\" class=\"col_heading level0 col6\" >timeOffset</th>\n",
       "      <th id=\"T_6fe78_level0_col7\" class=\"col_heading level0 col7\" >text</th>\n",
       "      <th id=\"T_6fe78_level0_col8\" class=\"col_heading level0 col8\" >senderWorkerId</th>\n",
       "      <th id=\"T_6fe78_level0_col9\" class=\"col_heading level0 col9\" >messageID</th>\n",
       "      <th id=\"T_6fe78_level0_col10\" class=\"col_heading level0 col10\" >text_translated</th>\n",
       "    </tr>\n",
       "  </thead>\n",
       "  <tbody>\n",
       "    <tr>\n",
       "      <th id=\"T_6fe78_level0_row0\" class=\"row_heading level0 row0\" >0</th>\n",
       "      <td id=\"T_6fe78_row0_col0\" class=\"data row0 col0\" >[{'movieId': '203371', 'movieName': 'Final Fantasy: The Spirits Within (2001)'}\n",
       " {'movieId': '84779', 'movieName': 'The Triplets of Belleville (2003)'}\n",
       " {'movieId': '122159', 'movieName': 'Mary and Max (2009)'}\n",
       " {'movieId': '151313', 'movieName': 'A Scanner Darkly  (2006)'}\n",
       " {'movieId': '191602', 'movieName': 'Waking Life (2001)'}\n",
       " {'movieId': '165710', 'movieName': 'The Boss Baby (2017)'}]</td>\n",
       "      <td id=\"T_6fe78_row0_col1\" class=\"data row0 col1\" >[{'liked': 1, 'movieId': '203371', 'seen': 0, 'suggested': 1}\n",
       " {'liked': 1, 'movieId': '84779', 'seen': 1, 'suggested': 0}\n",
       " {'liked': 1, 'movieId': '122159', 'seen': 1, 'suggested': 0}\n",
       " {'liked': 1, 'movieId': '151313', 'seen': 1, 'suggested': 0}\n",
       " {'liked': 1, 'movieId': '191602', 'seen': 1, 'suggested': 0}\n",
       " {'liked': 1, 'movieId': '165710', 'seen': 0, 'suggested': 1}]</td>\n",
       "      <td id=\"T_6fe78_row0_col2\" class=\"data row0 col2\" >391</td>\n",
       "      <td id=\"T_6fe78_row0_col3\" class=\"data row0 col3\" >1</td>\n",
       "      <td id=\"T_6fe78_row0_col4\" class=\"data row0 col4\" >0</td>\n",
       "      <td id=\"T_6fe78_row0_col5\" class=\"data row0 col5\" >[{'liked': 1, 'movieId': '203371', 'seen': 0, 'suggested': 1}\n",
       " {'liked': 1, 'movieId': '84779', 'seen': 1, 'suggested': 0}\n",
       " {'liked': 1, 'movieId': '122159', 'seen': 1, 'suggested': 0}\n",
       " {'liked': 1, 'movieId': '151313', 'seen': 1, 'suggested': 0}\n",
       " {'liked': 1, 'movieId': '191602', 'seen': 1, 'suggested': 0}\n",
       " {'liked': 1, 'movieId': '165710', 'seen': 0, 'suggested': 1}]</td>\n",
       "      <td id=\"T_6fe78_row0_col6\" class=\"data row0 col6\" >0</td>\n",
       "      <td id=\"T_6fe78_row0_col7\" class=\"data row0 col7\" >Hi there, how are you? I'm looking for movie recommendations</td>\n",
       "      <td id=\"T_6fe78_row0_col8\" class=\"data row0 col8\" >0</td>\n",
       "      <td id=\"T_6fe78_row0_col9\" class=\"data row0 col9\" >1021</td>\n",
       "      <td id=\"T_6fe78_row0_col10\" class=\"data row0 col10\" >Adeus</td>\n",
       "    </tr>\n",
       "    <tr>\n",
       "      <th id=\"T_6fe78_level0_row1\" class=\"row_heading level0 row1\" >1</th>\n",
       "      <td id=\"T_6fe78_row1_col0\" class=\"data row1 col0\" >[{'movieId': '203371', 'movieName': 'Final Fantasy: The Spirits Within (2001)'}\n",
       " {'movieId': '84779', 'movieName': 'The Triplets of Belleville (2003)'}\n",
       " {'movieId': '122159', 'movieName': 'Mary and Max (2009)'}\n",
       " {'movieId': '151313', 'movieName': 'A Scanner Darkly  (2006)'}\n",
       " {'movieId': '191602', 'movieName': 'Waking Life (2001)'}\n",
       " {'movieId': '165710', 'movieName': 'The Boss Baby (2017)'}]</td>\n",
       "      <td id=\"T_6fe78_row1_col1\" class=\"data row1 col1\" >[{'liked': 1, 'movieId': '203371', 'seen': 0, 'suggested': 1}\n",
       " {'liked': 1, 'movieId': '84779', 'seen': 1, 'suggested': 0}\n",
       " {'liked': 1, 'movieId': '122159', 'seen': 1, 'suggested': 0}\n",
       " {'liked': 1, 'movieId': '151313', 'seen': 1, 'suggested': 0}\n",
       " {'liked': 1, 'movieId': '191602', 'seen': 1, 'suggested': 0}\n",
       " {'liked': 1, 'movieId': '165710', 'seen': 0, 'suggested': 1}]</td>\n",
       "      <td id=\"T_6fe78_row1_col2\" class=\"data row1 col2\" >391</td>\n",
       "      <td id=\"T_6fe78_row1_col3\" class=\"data row1 col3\" >1</td>\n",
       "      <td id=\"T_6fe78_row1_col4\" class=\"data row1 col4\" >0</td>\n",
       "      <td id=\"T_6fe78_row1_col5\" class=\"data row1 col5\" >[{'liked': 1, 'movieId': '203371', 'seen': 0, 'suggested': 1}\n",
       " {'liked': 1, 'movieId': '84779', 'seen': 1, 'suggested': 0}\n",
       " {'liked': 1, 'movieId': '122159', 'seen': 1, 'suggested': 0}\n",
       " {'liked': 1, 'movieId': '151313', 'seen': 1, 'suggested': 0}\n",
       " {'liked': 1, 'movieId': '191602', 'seen': 1, 'suggested': 0}\n",
       " {'liked': 1, 'movieId': '165710', 'seen': 0, 'suggested': 1}]</td>\n",
       "      <td id=\"T_6fe78_row1_col6\" class=\"data row1 col6\" >15</td>\n",
       "      <td id=\"T_6fe78_row1_col7\" class=\"data row1 col7\" >I am doing okay. What kind of movies do you like?</td>\n",
       "      <td id=\"T_6fe78_row1_col8\" class=\"data row1 col8\" >1</td>\n",
       "      <td id=\"T_6fe78_row1_col9\" class=\"data row1 col9\" >1022</td>\n",
       "      <td id=\"T_6fe78_row1_col10\" class=\"data row1 col10\" >Adeus</td>\n",
       "    </tr>\n",
       "  </tbody>\n",
       "</table>\n"
      ],
      "text/plain": [
       "<pandas.io.formats.style.Styler at 0x1f18e763310>"
      ]
     },
     "execution_count": 13,
     "metadata": {},
     "output_type": "execute_result"
    }
   ],
   "source": [
    "df.head(2).style"
   ]
  },
  {
   "cell_type": "code",
   "execution_count": 10,
   "metadata": {},
   "outputs": [
    {
     "name": "stdout",
     "output_type": "stream",
     "text": [
      "total de linhas: 1001\n"
     ]
    },
    {
     "data": {
      "text/html": [
       "<style type=\"text/css\">\n",
       "</style>\n",
       "<table id=\"T_9fbb2\">\n",
       "  <thead>\n",
       "    <tr>\n",
       "      <th class=\"blank level0\" >&nbsp;</th>\n",
       "      <th id=\"T_9fbb2_level0_col0\" class=\"col_heading level0 col0\" >conversationId</th>\n",
       "      <th id=\"T_9fbb2_level0_col1\" class=\"col_heading level0 col1\" >messages</th>\n",
       "      <th id=\"T_9fbb2_level0_col2\" class=\"col_heading level0 col2\" >messages_translated</th>\n",
       "      <th id=\"T_9fbb2_level0_col3\" class=\"col_heading level0 col3\" >movieMentions</th>\n",
       "      <th id=\"T_9fbb2_level0_col4\" class=\"col_heading level0 col4\" >respondentQuestions</th>\n",
       "      <th id=\"T_9fbb2_level0_col5\" class=\"col_heading level0 col5\" >respondentWorkerId</th>\n",
       "      <th id=\"T_9fbb2_level0_col6\" class=\"col_heading level0 col6\" >initiatorWorkerId</th>\n",
       "      <th id=\"T_9fbb2_level0_col7\" class=\"col_heading level0 col7\" >initiatorQuestions</th>\n",
       "    </tr>\n",
       "  </thead>\n",
       "  <tbody>\n",
       "    <tr>\n",
       "      <th id=\"T_9fbb2_level0_row0\" class=\"row_heading level0 row0\" >279</th>\n",
       "      <td id=\"T_9fbb2_row0_col0\" class=\"data row0 col0\" >3362</td>\n",
       "      <td id=\"T_9fbb2_row0_col1\" class=\"data row0 col1\" >[{'messageId': 28190, 'senderWorkerId': 4, 'text': 'Hi there.  Have you seen any good kids movies lately?', 'timeOffset': 0}\n",
       " {'messageId': 28193, 'senderWorkerId': 235, 'text': 'Hi! I actually have. Have you seen @122604 ?', 'timeOffset': 54}\n",
       " {'messageId': 28195, 'senderWorkerId': 4, 'text': \"No, but that's still in theaters.\", 'timeOffset': 83}\n",
       " {'messageId': 28196, 'senderWorkerId': 4, 'text': 'Can you think of something I can see at home?', 'timeOffset': 90}\n",
       " {'messageId': 28198, 'senderWorkerId': 235, 'text': \"I haven't actually seen @108897, but I hear it's excellent. My nieces won't stop singing the songs.\", 'timeOffset': 131}\n",
       " {'messageId': 28199, 'senderWorkerId': 4, 'text': 'We did see that one.', 'timeOffset': 139}\n",
       " {'messageId': 28200, 'senderWorkerId': 4, 'text': 'It does have great music.', 'timeOffset': 146}\n",
       " {'messageId': 28202, 'senderWorkerId': 4, 'text': 'We also like to sing along with @94078', 'timeOffset': 160}\n",
       " {'messageId': 28204, 'senderWorkerId': 235, 'text': \"Oh, okay, wasn't sure if there was someone out there who also would admit to liking @94078! My kid loves it!\", 'timeOffset': 203}\n",
       " {'messageId': 28205, 'senderWorkerId': 4, 'text': 'We love it.', 'timeOffset': 215}\n",
       " {'messageId': 28207, 'senderWorkerId': 235, 'text': \"I really want to see the new @155955, but I haven't seen the first one yet (@134461). That one is out on Netflix, I think.\", 'timeOffset': 287}\n",
       " {'messageId': 28209, 'senderWorkerId': 4, 'text': 'What a good suggestion.', 'timeOffset': 300}\n",
       " {'messageId': 28210, 'senderWorkerId': 4, 'text': 'If we see @134461 now then I can plan a second movie night later on for @155955', 'timeOffset': 325}\n",
       " {'messageId': 28212, 'senderWorkerId': 4, 'text': 'Thanks so much for the idea.', 'timeOffset': 330}\n",
       " {'messageId': 28213, 'senderWorkerId': 4, 'text': 'Have a good weekend.', 'timeOffset': 334}\n",
       " {'messageId': 28214, 'senderWorkerId': 235, 'text': 'Sounds like a plan! You too!', 'timeOffset': 341}]</td>\n",
       "      <td id=\"T_9fbb2_row0_col2\" class=\"data row0 col2\" >[{'messageId': 28190, 'senderWorkerId': 4, 'text': 'Olá. Você viu algum bom filme infantil ultimamente?', 'timeOffset': 0}\n",
       " {'messageId': 28193, 'senderWorkerId': 235, 'text': 'Olá! Eu realmente tenho. Você já viu @122604?', 'timeOffset': 54}\n",
       " {'messageId': 28195, 'senderWorkerId': 4, 'text': 'Não, mas ainda está em cartaz nos cinemas.', 'timeOffset': 83}\n",
       " {'messageId': 28196, 'senderWorkerId': 4, 'text': 'Pode pensar em algo que eu possa ver em casa?', 'timeOffset': 90}\n",
       " {'messageId': 28198, 'senderWorkerId': 235, 'text': 'Eu ainda não vi o @108897, mas ouvi dizer que é excelente. Minhas sobrinhas não param de cantar as músicas.', 'timeOffset': 131}\n",
       " {'messageId': 28199, 'senderWorkerId': 4, 'text': 'Nós vimos aquele.', 'timeOffset': 139}\n",
       " {'messageId': 28200, 'senderWorkerId': 4, 'text': 'Ele tem uma música incrível.', 'timeOffset': 146}\n",
       " {'messageId': 28202, 'senderWorkerId': 4, 'text': 'Nós também gostamos de cantar junto com @94078.', 'timeOffset': 160}\n",
       " {'messageId': 28204, 'senderWorkerId': 235, 'text': 'Oh, okay, não tinha certeza se havia alguém lá fora que também admitiria gostar do @94078! Meu filho adora!', 'timeOffset': 203}\n",
       " {'messageId': 28205, 'senderWorkerId': 4, 'text': 'Nós amamos isso.', 'timeOffset': 215}\n",
       " {'messageId': 28207, 'senderWorkerId': 235, 'text': 'Eu realmente quero ver o novo @155955, mas ainda não vi o primeiro (@134461). Aquele está disponível na Netflix, acho.', 'timeOffset': 287}\n",
       " {'messageId': 28209, 'senderWorkerId': 4, 'text': 'Que sugestão boa.', 'timeOffset': 300}\n",
       " {'messageId': 28210, 'senderWorkerId': 4, 'text': 'Se a gente ver @134461 agora, então posso planejar uma segunda noite de cinema mais tarde para @155955.', 'timeOffset': 325}\n",
       " {'messageId': 28212, 'senderWorkerId': 4, 'text': 'Muito obrigado pela ideia.', 'timeOffset': 330}\n",
       " {'messageId': 28213, 'senderWorkerId': 4, 'text': 'Tenha um bom final de semana.', 'timeOffset': 334}\n",
       " {'messageId': 28214, 'senderWorkerId': 235, 'text': 'Parece um plano! Você também!', 'timeOffset': 341}]</td>\n",
       "      <td id=\"T_9fbb2_row0_col3\" class=\"data row0 col3\" >[{'movieId': '155955', 'movieName': 'Paddington 2'}\n",
       " {'movieId': '108897', 'movieName': 'Moana '}\n",
       " {'movieId': '94078', 'movieName': 'Trolls  (2016)'}\n",
       " {'movieId': '134461', 'movieName': 'Paddington  (2014)'}\n",
       " {'movieId': '122604', 'movieName': 'Coco  (2017)'}]</td>\n",
       "      <td id=\"T_9fbb2_row0_col4\" class=\"data row0 col4\" >[{'liked': 2, 'movieId': '155955', 'seen': 0, 'suggested': 1}\n",
       " {'liked': 1, 'movieId': '108897', 'seen': 1, 'suggested': 1}\n",
       " {'liked': 1, 'movieId': '94078', 'seen': 1, 'suggested': 0}\n",
       " {'liked': 2, 'movieId': '134461', 'seen': 0, 'suggested': 1}\n",
       " {'liked': 2, 'movieId': '122604', 'seen': 0, 'suggested': 1}]</td>\n",
       "      <td id=\"T_9fbb2_row0_col5\" class=\"data row0 col5\" >235</td>\n",
       "      <td id=\"T_9fbb2_row0_col6\" class=\"data row0 col6\" >4</td>\n",
       "      <td id=\"T_9fbb2_row0_col7\" class=\"data row0 col7\" >[{'liked': 1, 'movieId': '155955', 'seen': 0, 'suggested': 1}\n",
       " {'liked': 1, 'movieId': '108897', 'seen': 1, 'suggested': 1}\n",
       " {'liked': 1, 'movieId': '94078', 'seen': 1, 'suggested': 0}\n",
       " {'liked': 1, 'movieId': '134461', 'seen': 0, 'suggested': 1}\n",
       " {'liked': 2, 'movieId': '122604', 'seen': 0, 'suggested': 1}]</td>\n",
       "    </tr>\n",
       "  </tbody>\n",
       "</table>\n"
      ],
      "text/plain": [
       "<pandas.io.formats.style.Styler at 0x1f1f4525e40>"
      ]
     },
     "execution_count": 10,
     "metadata": {},
     "output_type": "execute_result"
    }
   ],
   "source": [
    "import pandas as pd\n",
    "\n",
    "df = pd.read_parquet('data/processed/translated_ds_002.parquet')\n",
    "print(f'total de linhas: {len(df)}')\n",
    "\n",
    "df.sample(1).style"
   ]
  },
  {
   "cell_type": "code",
   "execution_count": 1,
   "metadata": {},
   "outputs": [
    {
     "name": "stdout",
     "output_type": "stream",
     "text": [
      "Saved data/raw/ds_001.parquet\n",
      "Saved data/raw/ds_002.parquet\n",
      "Saved data/raw/ds_003.parquet\n",
      "Saved data/raw/ds_004.parquet\n",
      "Saved data/raw/ds_005.parquet\n",
      "Saved data/raw/ds_006.parquet\n",
      "Saved data/raw/ds_007.parquet\n",
      "Saved data/raw/ds_008.parquet\n",
      "Saved data/raw/ds_009.parquet\n",
      "Saved data/raw/ds_010.parquet\n"
     ]
    }
   ],
   "source": [
    "import pandas as pd\n",
    "import numpy as np\n",
    "\n",
    "# Carregando o dataset\n",
    "df = pd.read_parquet('data/raw/ds.parquet')\n",
    "\n",
    "# Dividindo o dataframe em 10 partes\n",
    "splits = np.array_split(df, 10)\n",
    "\n",
    "# Salvando cada parte como um arquivo parquet separado\n",
    "for idx, split in enumerate(splits, 1):\n",
    "    filename = f'data/raw/ds_{idx:03}.parquet'\n",
    "    split.to_parquet(filename, index=False)\n",
    "    print(f\"Saved {filename}\")\n"
   ]
  },
  {
   "cell_type": "code",
   "execution_count": 2,
   "metadata": {},
   "outputs": [
    {
     "name": "stdout",
     "output_type": "stream",
     "text": [
      "data/raw\\ds_001.parquet: 1001 rows\n",
      "data/raw\\ds_002.parquet: 1001 rows\n",
      "data/raw\\ds_003.parquet: 1001 rows\n",
      "data/raw\\ds_004.parquet: 1001 rows\n",
      "data/raw\\ds_005.parquet: 1001 rows\n",
      "data/raw\\ds_006.parquet: 1001 rows\n",
      "data/raw\\ds_007.parquet: 1000 rows\n",
      "data/raw\\ds_008.parquet: 1000 rows\n",
      "data/raw\\ds_009.parquet: 1000 rows\n",
      "data/raw\\ds_010.parquet: 1000 rows\n"
     ]
    }
   ],
   "source": [
    "# Carregue os datasets salvos e verifique o tamanho de cada um deles:\n",
    "\n",
    "import glob\n",
    "\n",
    "# Lista todos os arquivos parquet\n",
    "\n",
    "files = glob.glob('data/raw/ds_*.parquet')\n",
    "\n",
    "# Carrega cada arquivo e imprime o tamanho\n",
    "\n",
    "for file in files:\n",
    "    df = pd.read_parquet(file)\n",
    "    print(f\"{file}: {len(df)} rows\")\n",
    "    "
   ]
  },
  {
   "cell_type": "code",
   "execution_count": 9,
   "metadata": {},
   "outputs": [
    {
     "name": "stdout",
     "output_type": "stream",
     "text": [
      "pandas: 2.0.1\n",
      "numpy: 1.24.1\n"
     ]
    }
   ],
   "source": [
    "# Verifique a versão das seguintes bibliotecas:\n",
    "\n",
    "import pandas as pd\n",
    "import numpy as np\n",
    "import dotenv\n",
    "import os\n",
    "import time\n",
    "\n",
    "print(f'pandas: {pd.__version__}')\n",
    "print(f'numpy: {np.__version__}')"
   ]
  }
 ],
 "metadata": {
  "kernelspec": {
   "display_name": "torch_2.0",
   "language": "python",
   "name": "python3"
  },
  "language_info": {
   "codemirror_mode": {
    "name": "ipython",
    "version": 3
   },
   "file_extension": ".py",
   "mimetype": "text/x-python",
   "name": "python",
   "nbconvert_exporter": "python",
   "pygments_lexer": "ipython3",
   "version": "3.8.10"
  },
  "orig_nbformat": 4
 },
 "nbformat": 4,
 "nbformat_minor": 2
}
