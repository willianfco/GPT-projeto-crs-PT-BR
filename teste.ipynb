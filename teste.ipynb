{
 "cells": [
  {
   "cell_type": "code",
   "execution_count": 22,
   "metadata": {},
   "outputs": [
    {
     "name": "stdout",
     "output_type": "stream",
     "text": [
      "total de linhas: 1\n"
     ]
    },
    {
     "data": {
      "text/html": [
       "<style type=\"text/css\">\n",
       "</style>\n",
       "<table id=\"T_40897\">\n",
       "  <thead>\n",
       "    <tr>\n",
       "      <th class=\"blank level0\" >&nbsp;</th>\n",
       "      <th id=\"T_40897_level0_col0\" class=\"col_heading level0 col0\" >conversationId</th>\n",
       "      <th id=\"T_40897_level0_col1\" class=\"col_heading level0 col1\" >messages</th>\n",
       "      <th id=\"T_40897_level0_col2\" class=\"col_heading level0 col2\" >messages_translated</th>\n",
       "      <th id=\"T_40897_level0_col3\" class=\"col_heading level0 col3\" >movieMentions</th>\n",
       "      <th id=\"T_40897_level0_col4\" class=\"col_heading level0 col4\" >respondentQuestions</th>\n",
       "      <th id=\"T_40897_level0_col5\" class=\"col_heading level0 col5\" >respondentWorkerId</th>\n",
       "      <th id=\"T_40897_level0_col6\" class=\"col_heading level0 col6\" >initiatorWorkerId</th>\n",
       "      <th id=\"T_40897_level0_col7\" class=\"col_heading level0 col7\" >initiatorQuestions</th>\n",
       "    </tr>\n",
       "  </thead>\n",
       "  <tbody>\n",
       "    <tr>\n",
       "      <th id=\"T_40897_level0_row0\" class=\"row_heading level0 row0\" >0</th>\n",
       "      <td id=\"T_40897_row0_col0\" class=\"data row0 col0\" >391</td>\n",
       "      <td id=\"T_40897_row0_col1\" class=\"data row0 col1\" >[{'messageId': 1021, 'senderWorkerId': 0, 'text': \"Hi there, how are you? I'm looking for movie recommendations\", 'timeOffset': 0}\n",
       " {'messageId': 1022, 'senderWorkerId': 1, 'text': 'I am doing okay. What kind of movies do you like?', 'timeOffset': 15}\n",
       " {'messageId': 1023, 'senderWorkerId': 0, 'text': 'I like animations like @84779 and @191602', 'timeOffset': 66}\n",
       " {'messageId': 1024, 'senderWorkerId': 0, 'text': 'I also enjoy @122159', 'timeOffset': 86}\n",
       " {'messageId': 1025, 'senderWorkerId': 0, 'text': 'Anything artistic', 'timeOffset': 95}\n",
       " {'messageId': 1026, 'senderWorkerId': 1, 'text': 'You might like @165710 that was a good movie.', 'timeOffset': 135}\n",
       " {'messageId': 1027, 'senderWorkerId': 0, 'text': \"What's it about?\", 'timeOffset': 151}\n",
       " {'messageId': 1028, 'senderWorkerId': 1, 'text': 'It has Alec Baldwin it is about a baby that works for a company and gets adopted it is very funny', 'timeOffset': 207}\n",
       " {'messageId': 1029, 'senderWorkerId': 0, 'text': 'That seems like a nice comedy', 'timeOffset': 238}\n",
       " {'messageId': 1030, 'senderWorkerId': 0, 'text': 'Do you have any animated recommendations that are a bit more dramatic? Like @151313 for example', 'timeOffset': 272}\n",
       " {'messageId': 1031, 'senderWorkerId': 0, 'text': 'I like comedies but I prefer films with a little more depth', 'timeOffset': 327}\n",
       " {'messageId': 1032, 'senderWorkerId': 1, 'text': 'That is a tough one but I will remember something', 'timeOffset': 467}\n",
       " {'messageId': 1033, 'senderWorkerId': 1, 'text': '@203371 was a good one', 'timeOffset': 509}\n",
       " {'messageId': 1034, 'senderWorkerId': 0, 'text': \"Ooh that seems cool! Thanks for the input. I'm ready to submit if you are.\", 'timeOffset': 564}\n",
       " {'messageId': 1035, 'senderWorkerId': 1, 'text': 'It is animated, sci fi, and has action', 'timeOffset': 571}\n",
       " {'messageId': 1036, 'senderWorkerId': 1, 'text': 'Glad I could help', 'timeOffset': 579}\n",
       " {'messageId': 1037, 'senderWorkerId': 0, 'text': 'Nice', 'timeOffset': 581}\n",
       " {'messageId': 1038, 'senderWorkerId': 0, 'text': 'Take care, cheers!', 'timeOffset': 591}\n",
       " {'messageId': 1039, 'senderWorkerId': 1, 'text': 'bye', 'timeOffset': 608}]</td>\n",
       "      <td id=\"T_40897_row0_col2\" class=\"data row0 col2\" >[{'messageId': 1021, 'senderWorkerId': 0, 'text': 'Olá, como você está? Estou procurando recomendações de filmes.', 'timeOffset': 0}\n",
       " {'messageId': 1022, 'senderWorkerId': 1, 'text': 'Eu estou indo bem. Qual tipo de filmes você gosta?', 'timeOffset': 15}\n",
       " {'messageId': 1023, 'senderWorkerId': 0, 'text': 'Eu gosto de animações como @84779 e @191602.', 'timeOffset': 66}\n",
       " {'messageId': 1024, 'senderWorkerId': 0, 'text': 'Eu também gosto de @122159.', 'timeOffset': 86}\n",
       " {'messageId': 1025, 'senderWorkerId': 0, 'text': 'Qualquer coisa artística', 'timeOffset': 95}\n",
       " {'messageId': 1026, 'senderWorkerId': 1, 'text': 'Você pode gostar de saber que foi um bom filme.', 'timeOffset': 135}\n",
       " {'messageId': 1027, 'senderWorkerId': 0, 'text': 'O que é isso?', 'timeOffset': 151}\n",
       " {'messageId': 1028, 'senderWorkerId': 1, 'text': 'Tem um bebê que trabalha para uma empresa e é adotado. É muito engraçado.', 'timeOffset': 207}\n",
       " {'messageId': 1029, 'senderWorkerId': 0, 'text': 'Isso parece ser uma comédia legal.', 'timeOffset': 238}\n",
       " {'messageId': 1030, 'senderWorkerId': 0, 'text': 'Você tem alguma recomendação animada que seja um pouco mais dramática, como por exemplo @151313?', 'timeOffset': 272}\n",
       " {'messageId': 1031, 'senderWorkerId': 0, 'text': 'Eu gosto de comédias, mas prefiro filmes com um pouco mais de profundidade.', 'timeOffset': 327}\n",
       " {'messageId': 1032, 'senderWorkerId': 1, 'text': 'Isso é um desafio, mas eu me lembrarei de algo.', 'timeOffset': 467}\n",
       " {'messageId': 1033, 'senderWorkerId': 1, 'text': '203371 foi um bom ano.', 'timeOffset': 509}\n",
       " {'messageId': 1034, 'senderWorkerId': 0, 'text': 'Ah, parece legal! Obrigado pela contribuição. Estou pronto para enviar se você estiver.', 'timeOffset': 564}\n",
       " {'messageId': 1035, 'senderWorkerId': 1, 'text': 'É animado, de ficção científica e tem ação.', 'timeOffset': 571}\n",
       " {'messageId': 1036, 'senderWorkerId': 1, 'text': 'Fico feliz em poder ajudar', 'timeOffset': 579}\n",
       " {'messageId': 1037, 'senderWorkerId': 0, 'text': 'Legal', 'timeOffset': 581}\n",
       " {'messageId': 1038, 'senderWorkerId': 0, 'text': 'Cuide-se, abraços!', 'timeOffset': 591}\n",
       " {'messageId': 1039, 'senderWorkerId': 1, 'text': 'Adeus', 'timeOffset': 608}]</td>\n",
       "      <td id=\"T_40897_row0_col3\" class=\"data row0 col3\" >[{'movieId': '203371', 'movieName': 'Final Fantasy: The Spirits Within (2001)'}\n",
       " {'movieId': '84779', 'movieName': 'The Triplets of Belleville (2003)'}\n",
       " {'movieId': '122159', 'movieName': 'Mary and Max (2009)'}\n",
       " {'movieId': '151313', 'movieName': 'A Scanner Darkly  (2006)'}\n",
       " {'movieId': '191602', 'movieName': 'Waking Life (2001)'}\n",
       " {'movieId': '165710', 'movieName': 'The Boss Baby (2017)'}]</td>\n",
       "      <td id=\"T_40897_row0_col4\" class=\"data row0 col4\" >[{'liked': 1, 'movieId': '203371', 'seen': 0, 'suggested': 1}\n",
       " {'liked': 1, 'movieId': '84779', 'seen': 1, 'suggested': 0}\n",
       " {'liked': 1, 'movieId': '122159', 'seen': 1, 'suggested': 0}\n",
       " {'liked': 1, 'movieId': '151313', 'seen': 1, 'suggested': 0}\n",
       " {'liked': 1, 'movieId': '191602', 'seen': 1, 'suggested': 0}\n",
       " {'liked': 1, 'movieId': '165710', 'seen': 0, 'suggested': 1}]</td>\n",
       "      <td id=\"T_40897_row0_col5\" class=\"data row0 col5\" >1</td>\n",
       "      <td id=\"T_40897_row0_col6\" class=\"data row0 col6\" >0</td>\n",
       "      <td id=\"T_40897_row0_col7\" class=\"data row0 col7\" >[{'liked': 1, 'movieId': '203371', 'seen': 0, 'suggested': 1}\n",
       " {'liked': 1, 'movieId': '84779', 'seen': 1, 'suggested': 0}\n",
       " {'liked': 1, 'movieId': '122159', 'seen': 1, 'suggested': 0}\n",
       " {'liked': 1, 'movieId': '151313', 'seen': 1, 'suggested': 0}\n",
       " {'liked': 1, 'movieId': '191602', 'seen': 1, 'suggested': 0}\n",
       " {'liked': 1, 'movieId': '165710', 'seen': 0, 'suggested': 1}]</td>\n",
       "    </tr>\n",
       "  </tbody>\n",
       "</table>\n"
      ],
      "text/plain": [
       "<pandas.io.formats.style.Styler at 0x27620a2b1c0>"
      ]
     },
     "execution_count": 22,
     "metadata": {},
     "output_type": "execute_result"
    },
    {
     "ename": "",
     "evalue": "",
     "output_type": "error",
     "traceback": [
      "\u001b[1;31mO Kernel falhou ao executar o código na célula atual ou em uma célula anterior. Examine o código nas células para identificar uma possível causa da falha. Clique <a href=\"https://aka.ms/vscodeJupyterKernelCrash\">aqui</a> para obter mais informações. Consulte o <a href='command:jupyter.viewOutput'>log</a> do Jupyter para obter mais detalhes."
     ]
    }
   ],
   "source": [
    "import pandas as pd\n",
    "\n",
    "df = pd.read_parquet('translated_ds.parquet')\n",
    "print(f'total de linhas: {len(df)}')\n",
    "df.head(1).style"
   ]
  },
  {
   "cell_type": "code",
   "execution_count": 1,
   "metadata": {},
   "outputs": [
    {
     "name": "stdout",
     "output_type": "stream",
     "text": [
      "Saved data/raw/ds_001.parquet\n",
      "Saved data/raw/ds_002.parquet\n",
      "Saved data/raw/ds_003.parquet\n",
      "Saved data/raw/ds_004.parquet\n",
      "Saved data/raw/ds_005.parquet\n",
      "Saved data/raw/ds_006.parquet\n",
      "Saved data/raw/ds_007.parquet\n",
      "Saved data/raw/ds_008.parquet\n",
      "Saved data/raw/ds_009.parquet\n",
      "Saved data/raw/ds_010.parquet\n"
     ]
    }
   ],
   "source": [
    "import pandas as pd\n",
    "import numpy as np\n",
    "\n",
    "# Carregando o dataset\n",
    "df = pd.read_parquet('data/raw/ds.parquet')\n",
    "\n",
    "# Dividindo o dataframe em 10 partes\n",
    "splits = np.array_split(df, 10)\n",
    "\n",
    "# Salvando cada parte como um arquivo parquet separado\n",
    "for idx, split in enumerate(splits, 1):\n",
    "    filename = f'data/raw/ds_{idx:03}.parquet'\n",
    "    split.to_parquet(filename, index=False)\n",
    "    print(f\"Saved {filename}\")\n"
   ]
  },
  {
   "cell_type": "code",
   "execution_count": 2,
   "metadata": {},
   "outputs": [
    {
     "name": "stdout",
     "output_type": "stream",
     "text": [
      "data/raw\\ds_001.parquet: 1001 rows\n",
      "data/raw\\ds_002.parquet: 1001 rows\n",
      "data/raw\\ds_003.parquet: 1001 rows\n",
      "data/raw\\ds_004.parquet: 1001 rows\n",
      "data/raw\\ds_005.parquet: 1001 rows\n",
      "data/raw\\ds_006.parquet: 1001 rows\n",
      "data/raw\\ds_007.parquet: 1000 rows\n",
      "data/raw\\ds_008.parquet: 1000 rows\n",
      "data/raw\\ds_009.parquet: 1000 rows\n",
      "data/raw\\ds_010.parquet: 1000 rows\n"
     ]
    }
   ],
   "source": [
    "# Carregue os datasets salvos e verifique o tamanho de cada um deles:\n",
    "\n",
    "import glob\n",
    "\n",
    "# Lista todos os arquivos parquet\n",
    "\n",
    "files = glob.glob('data/raw/ds_*.parquet')\n",
    "\n",
    "# Carrega cada arquivo e imprime o tamanho\n",
    "\n",
    "for file in files:\n",
    "    df = pd.read_parquet(file)\n",
    "    print(f\"{file}: {len(df)} rows\")\n",
    "    "
   ]
  },
  {
   "cell_type": "code",
   "execution_count": 9,
   "metadata": {},
   "outputs": [
    {
     "name": "stdout",
     "output_type": "stream",
     "text": [
      "pandas: 2.0.1\n",
      "numpy: 1.24.1\n"
     ]
    }
   ],
   "source": [
    "# Verifique a versão das seguintes bibliotecas:\n",
    "\n",
    "import pandas as pd\n",
    "import numpy as np\n",
    "import dotenv\n",
    "import os\n",
    "import time\n",
    "\n",
    "print(f'pandas: {pd.__version__}')\n",
    "print(f'numpy: {np.__version__}')"
   ]
  }
 ],
 "metadata": {
  "kernelspec": {
   "display_name": "torch_2.0",
   "language": "python",
   "name": "python3"
  },
  "language_info": {
   "codemirror_mode": {
    "name": "ipython",
    "version": 3
   },
   "file_extension": ".py",
   "mimetype": "text/x-python",
   "name": "python",
   "nbconvert_exporter": "python",
   "pygments_lexer": "ipython3",
   "version": "3.10.11"
  },
  "orig_nbformat": 4
 },
 "nbformat": 4,
 "nbformat_minor": 2
}
