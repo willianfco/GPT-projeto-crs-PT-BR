{
 "cells": [
  {
   "cell_type": "code",
   "execution_count": 10,
   "metadata": {},
   "outputs": [
    {
     "name": "stdout",
     "output_type": "stream",
     "text": [
      "total de linhas: 17508\n",
      "Total de mensagens traduzidas: 67\n",
      "Total de mensagens não traduzidas: 17441\n"
     ]
    }
   ],
   "source": [
    "import pandas as pd\n",
    "\n",
    "df = pd.read_parquet('data/processed/interim/interim_translated_ds_002.parquet')\n",
    "print(f'total de linhas: {len(df)}')\n",
    "\n",
    "non_translated_count = df['text_translated'].isna().sum()\n",
    "translated_count = len(df) - non_translated_count\n",
    "\n",
    "print(f'Total de mensagens traduzidas: {translated_count}')\n",
    "print(f'Total de mensagens não traduzidas: {non_translated_count}')\n"
   ]
  },
  {
   "cell_type": "code",
   "execution_count": 1,
   "metadata": {},
   "outputs": [
    {
     "name": "stdout",
     "output_type": "stream",
     "text": [
      "Saved data/raw/ds_001.parquet\n",
      "Saved data/raw/ds_002.parquet\n",
      "Saved data/raw/ds_003.parquet\n",
      "Saved data/raw/ds_004.parquet\n",
      "Saved data/raw/ds_005.parquet\n",
      "Saved data/raw/ds_006.parquet\n",
      "Saved data/raw/ds_007.parquet\n",
      "Saved data/raw/ds_008.parquet\n",
      "Saved data/raw/ds_009.parquet\n",
      "Saved data/raw/ds_010.parquet\n"
     ]
    }
   ],
   "source": [
    "import pandas as pd\n",
    "import numpy as np\n",
    "\n",
    "# Carregando o dataset\n",
    "df = pd.read_parquet('data/raw/ds.parquet')\n",
    "\n",
    "# Dividindo o dataframe em 10 partes\n",
    "splits = np.array_split(df, 10)\n",
    "\n",
    "# Salvando cada parte como um arquivo parquet separado\n",
    "for idx, split in enumerate(splits, 1):\n",
    "    filename = f'data/raw/ds_{idx:03}.parquet'\n",
    "    split.to_parquet(filename, index=False)\n",
    "    print(f\"Saved {filename}\")\n"
   ]
  },
  {
   "cell_type": "code",
   "execution_count": 2,
   "metadata": {},
   "outputs": [
    {
     "name": "stdout",
     "output_type": "stream",
     "text": [
      "data/raw\\ds_001.parquet: 1001 rows\n",
      "data/raw\\ds_002.parquet: 1001 rows\n",
      "data/raw\\ds_003.parquet: 1001 rows\n",
      "data/raw\\ds_004.parquet: 1001 rows\n",
      "data/raw\\ds_005.parquet: 1001 rows\n",
      "data/raw\\ds_006.parquet: 1001 rows\n",
      "data/raw\\ds_007.parquet: 1000 rows\n",
      "data/raw\\ds_008.parquet: 1000 rows\n",
      "data/raw\\ds_009.parquet: 1000 rows\n",
      "data/raw\\ds_010.parquet: 1000 rows\n"
     ]
    }
   ],
   "source": [
    "# Carregue os datasets salvos e verifique o tamanho de cada um deles:\n",
    "\n",
    "import glob\n",
    "\n",
    "# Lista todos os arquivos parquet\n",
    "\n",
    "files = glob.glob('data/raw/ds_*.parquet')\n",
    "\n",
    "# Carrega cada arquivo e imprime o tamanho\n",
    "\n",
    "for file in files:\n",
    "    df = pd.read_parquet(file)\n",
    "    print(f\"{file}: {len(df)} rows\")\n",
    "    "
   ]
  },
  {
   "cell_type": "code",
   "execution_count": 9,
   "metadata": {},
   "outputs": [
    {
     "name": "stdout",
     "output_type": "stream",
     "text": [
      "pandas: 2.0.1\n",
      "numpy: 1.24.1\n"
     ]
    }
   ],
   "source": [
    "# Verifique a versão das seguintes bibliotecas:\n",
    "\n",
    "import pandas as pd\n",
    "import numpy as np\n",
    "import dotenv\n",
    "import os\n",
    "import time\n",
    "\n",
    "print(f'pandas: {pd.__version__}')\n",
    "print(f'numpy: {np.__version__}')"
   ]
  }
 ],
 "metadata": {
  "kernelspec": {
   "display_name": "torch_2.0",
   "language": "python",
   "name": "python3"
  },
  "language_info": {
   "codemirror_mode": {
    "name": "ipython",
    "version": 3
   },
   "file_extension": ".py",
   "mimetype": "text/x-python",
   "name": "python",
   "nbconvert_exporter": "python",
   "pygments_lexer": "ipython3",
   "version": "3.8.10"
  },
  "orig_nbformat": 4
 },
 "nbformat": 4,
 "nbformat_minor": 2
}
