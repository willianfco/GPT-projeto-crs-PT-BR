{
 "cells": [
  {
   "cell_type": "markdown",
   "metadata": {},
   "source": [
    "### Download data"
   ]
  },
  {
   "cell_type": "code",
   "execution_count": 9,
   "metadata": {},
   "outputs": [],
   "source": [
    "from datasets import load_dataset\n",
    "\n",
    "ds_train = load_dataset(\"re_dial\", revision=\"refs/convert/parquet\", split=\"train\")\n",
    "ds_test = load_dataset(\"re_dial\", revision=\"refs/convert/parquet\", split=\"test\")\n",
    "\n",
    "ds_train.to_pandas().to_parquet(\"data/raw/train.parquet\")\n",
    "ds_test.to_pandas().to_parquet(\"data/raw/test.parquet\")"
   ]
  },
  {
   "cell_type": "markdown",
   "metadata": {},
   "source": [
    "### Verify Interim"
   ]
  },
  {
   "cell_type": "code",
   "execution_count": 39,
   "metadata": {},
   "outputs": [
    {
     "name": "stdout",
     "output_type": "stream",
     "text": [
      "total de linhas: 1342\n"
     ]
    }
   ],
   "source": [
    "import pandas as pd\n",
    "\n",
    "interim_path = 'data/processed/translated_ds_011.parquet'\n",
    "\n",
    "df = pd.read_parquet(interim_path)\n",
    "print(f'total de linhas: {len(df)}')\n",
    "\n",
    "# non_translated_count = df['text_translated'].isna().sum()\n",
    "# translated_count = len(df) - non_translated_count\n",
    "\n",
    "# print(f'Total de mensagens traduzidas: {translated_count}')\n",
    "# print(f'Total de mensagens não traduzidas: {non_translated_count}')\n"
   ]
  },
  {
   "cell_type": "code",
   "execution_count": 26,
   "metadata": {},
   "outputs": [],
   "source": [
    "def reaggregate_messages_and_translation(group):\n",
    "\n",
    "    messages = group.apply(\n",
    "        lambda x: {\n",
    "            \"timeOffset\": x['messages'][\"timeOffset\"],\n",
    "            \"text\": x['messages'][\"text\"],\n",
    "            \"senderWorkerId\": x['messages'][\"senderWorkerId\"],\n",
    "            \"messageId\": x['messages'][\"messageID\"],\n",
    "        },\n",
    "        axis=1,\n",
    "    ).tolist()\n",
    "\n",
    "    messages_translated = group.apply(\n",
    "        lambda x: {\n",
    "            \"timeOffset\": x[\"timeOffset\"],\n",
    "            \"text\": x[\"text_translated\"],\n",
    "            \"senderWorkerId\": x[\"senderWorkerId\"],\n",
    "            \"messageId\": x[\"messageID\"],\n",
    "        },\n",
    "        axis=1,\n",
    "    ).tolist()\n",
    "\n",
    "    # Colunas constantes dentro de cada grupo\n",
    "    constant_values = {\n",
    "        \"movieMentions\": group[\"movieMentions\"].iloc[0],\n",
    "        \"respondentQuestions\": group[\"respondentQuestions\"].iloc[0],\n",
    "        \"respondentWorkerId\": group[\"respondentWorkerId\"].iloc[0],\n",
    "        \"initiatorWorkerId\": group[\"initiatorWorkerId\"].iloc[0],\n",
    "        \"initiatorQuestions\": group[\"initiatorQuestions\"].iloc[0],\n",
    "    }\n",
    "\n",
    "    return pd.Series(\n",
    "        {\n",
    "            \"messages\": messages,\n",
    "            \"messages_translated\": messages_translated,\n",
    "            **constant_values,\n",
    "        }\n",
    "    )\n",
    "\n",
    "\n",
    "def reconstruct_dataset(df_messages: pd.DataFrame, number: int) -> pd.DataFrame:\n",
    "    reconstructed_df = (\n",
    "        df_messages.groupby(\"conversationId\")\n",
    "        .apply(reaggregate_messages_and_translation)\n",
    "        .reset_index()\n",
    "    )\n",
    "    reconstructed_df.to_parquet(\n",
    "        f\"data/processed/translated_ds_{number:03}.parquet\", index=False\n",
    "    )"
   ]
  },
  {
   "cell_type": "markdown",
   "metadata": {},
   "source": [
    "### Split Dataset"
   ]
  },
  {
   "cell_type": "code",
   "execution_count": 1,
   "metadata": {},
   "outputs": [
    {
     "name": "stdout",
     "output_type": "stream",
     "text": [
      "Saved data/raw/ds_001.parquet\n",
      "Saved data/raw/ds_002.parquet\n",
      "Saved data/raw/ds_003.parquet\n",
      "Saved data/raw/ds_004.parquet\n",
      "Saved data/raw/ds_005.parquet\n",
      "Saved data/raw/ds_006.parquet\n",
      "Saved data/raw/ds_007.parquet\n",
      "Saved data/raw/ds_008.parquet\n",
      "Saved data/raw/ds_009.parquet\n",
      "Saved data/raw/ds_010.parquet\n"
     ]
    }
   ],
   "source": [
    "import pandas as pd\n",
    "import numpy as np\n",
    "\n",
    "# Carregando o dataset\n",
    "\n",
    "PATH = 'data/raw/ds.parquet'\n",
    "\n",
    "df = pd.read_parquet(PATH)\n",
    "\n",
    "# Dividindo o dataframe em 10 partes\n",
    "splits = np.array_split(df, 10)\n",
    "\n",
    "# Salvando cada parte como um arquivo parquet separado\n",
    "for idx, split in enumerate(splits, 1):\n",
    "    filename = f'data/raw/ds_{idx:03}.parquet'\n",
    "    split.to_parquet(filename, index=False)\n",
    "    print(f\"Saved {filename}\")\n"
   ]
  },
  {
   "cell_type": "markdown",
   "metadata": {},
   "source": [
    "### Example generating batchs samples"
   ]
  },
  {
   "cell_type": "code",
   "execution_count": 98,
   "metadata": {},
   "outputs": [],
   "source": [
    "movies = pd.DataFrame(df['movieMentions'].explode().to_list()).drop_duplicates()"
   ]
  },
  {
   "cell_type": "code",
   "execution_count": 183,
   "metadata": {},
   "outputs": [],
   "source": [
    "import re\n",
    "def id2text(text):\n",
    "    for movie_id in re.findall(r'@\\d+', text):\n",
    "        movie_name = movies[movies['movieId'] == movie_id[1:]]['movieName'].iloc[0]\n",
    "        text = text.replace(movie_id, movie_name)\n",
    "    return text"
   ]
  },
  {
   "cell_type": "code",
   "execution_count": 184,
   "metadata": {},
   "outputs": [],
   "source": [
    "df_dev = df.head()\n",
    "df_dev = df_dev[['messages_translated']]\n",
    "df_dev['conversation'] = df_dev['messages_translated'].apply(lambda x: [id2text(message['text']) for message in x])\n",
    "df_dev.drop(columns=['messages_translated'], inplace=True)"
   ]
  },
  {
   "cell_type": "code",
   "execution_count": 185,
   "metadata": {},
   "outputs": [
    {
     "data": {
      "text/html": [
       "<div>\n",
       "<style scoped>\n",
       "    .dataframe tbody tr th:only-of-type {\n",
       "        vertical-align: middle;\n",
       "    }\n",
       "\n",
       "    .dataframe tbody tr th {\n",
       "        vertical-align: top;\n",
       "    }\n",
       "\n",
       "    .dataframe thead th {\n",
       "        text-align: right;\n",
       "    }\n",
       "</style>\n",
       "<table border=\"1\" class=\"dataframe\">\n",
       "  <thead>\n",
       "    <tr style=\"text-align: right;\">\n",
       "      <th></th>\n",
       "      <th>question</th>\n",
       "      <th>response</th>\n",
       "    </tr>\n",
       "  </thead>\n",
       "  <tbody>\n",
       "    <tr>\n",
       "      <th>0</th>\n",
       "      <td>Olá, estou procurando por um filme como o Super Troopers (2001).</td>\n",
       "      <td>Você deveria assistir Police Academy  (1984).</td>\n",
       "    </tr>\n",
       "    <tr>\n",
       "      <th>1</th>\n",
       "      <td>Você deveria assistir Police Academy  (1984).</td>\n",
       "      <td>É um grande? Eu nunca vi isso. Eu já vi American Pie .</td>\n",
       "    </tr>\n",
       "    <tr>\n",
       "      <th>2</th>\n",
       "      <td>É um grande? Eu nunca vi isso. Eu já vi American Pie .</td>\n",
       "      <td>Eu quero dizer American Pie  (1999)</td>\n",
       "    </tr>\n",
       "    <tr>\n",
       "      <th>3</th>\n",
       "      <td>Eu quero dizer American Pie  (1999)</td>\n",
       "      <td>Sim, Police Academy  (1984) é muito engraçado e Police Academy 2: Their First Assignment (1985) também.</td>\n",
       "    </tr>\n",
       "    <tr>\n",
       "      <th>4</th>\n",
       "      <td>Sim, Police Academy  (1984) é muito engraçado e Police Academy 2: Their First Assignment (1985) também.</td>\n",
       "      <td>Parece que eu preciso dar uma olhada neles.</td>\n",
       "    </tr>\n",
       "    <tr>\n",
       "      <th>...</th>\n",
       "      <td>...</td>\n",
       "      <td>...</td>\n",
       "    </tr>\n",
       "    <tr>\n",
       "      <th>74</th>\n",
       "      <td>Acho que vou tentar esse.</td>\n",
       "      <td>X-Men: The Last Stand (2006) Foi outro bom filme dos X-Men.</td>\n",
       "    </tr>\n",
       "    <tr>\n",
       "      <th>75</th>\n",
       "      <td>X-Men: The Last Stand (2006) Foi outro bom filme dos X-Men.</td>\n",
       "      <td>Okay, obrigado!</td>\n",
       "    </tr>\n",
       "    <tr>\n",
       "      <th>76</th>\n",
       "      <td>Okay, obrigado!</td>\n",
       "      <td>Oh, tem tantas coisas</td>\n",
       "    </tr>\n",
       "    <tr>\n",
       "      <th>77</th>\n",
       "      <td>Oh, tem tantas coisas</td>\n",
       "      <td>Obrigado.</td>\n",
       "    </tr>\n",
       "    <tr>\n",
       "      <th>78</th>\n",
       "      <td>Obrigado.</td>\n",
       "      <td>Adeus</td>\n",
       "    </tr>\n",
       "  </tbody>\n",
       "</table>\n",
       "<p>79 rows × 2 columns</p>\n",
       "</div>"
      ],
      "text/plain": [
       "                                                                                                   question   \n",
       "0                                          Olá, estou procurando por um filme como o Super Troopers (2001).  \\\n",
       "1                                                             Você deveria assistir Police Academy  (1984).   \n",
       "2                                                    É um grande? Eu nunca vi isso. Eu já vi American Pie .   \n",
       "3                                                                       Eu quero dizer American Pie  (1999)   \n",
       "4   Sim, Police Academy  (1984) é muito engraçado e Police Academy 2: Their First Assignment (1985) também.   \n",
       "..                                                                                                      ...   \n",
       "74                                                                                Acho que vou tentar esse.   \n",
       "75                                              X-Men: The Last Stand (2006) Foi outro bom filme dos X-Men.   \n",
       "76                                                                                          Okay, obrigado!   \n",
       "77                                                                                    Oh, tem tantas coisas   \n",
       "78                                                                                                Obrigado.   \n",
       "\n",
       "                                                                                                   response  \n",
       "0                                                             Você deveria assistir Police Academy  (1984).  \n",
       "1                                                    É um grande? Eu nunca vi isso. Eu já vi American Pie .  \n",
       "2                                                                       Eu quero dizer American Pie  (1999)  \n",
       "3   Sim, Police Academy  (1984) é muito engraçado e Police Academy 2: Their First Assignment (1985) também.  \n",
       "4                                                               Parece que eu preciso dar uma olhada neles.  \n",
       "..                                                                                                      ...  \n",
       "74                                              X-Men: The Last Stand (2006) Foi outro bom filme dos X-Men.  \n",
       "75                                                                                          Okay, obrigado!  \n",
       "76                                                                                    Oh, tem tantas coisas  \n",
       "77                                                                                                Obrigado.  \n",
       "78                                                                                                    Adeus  \n",
       "\n",
       "[79 rows x 2 columns]"
      ]
     },
     "execution_count": 185,
     "metadata": {},
     "output_type": "execute_result"
    }
   ],
   "source": [
    "# split question x response explode\n",
    "df_train = []\n",
    "\n",
    "for _, row in df_dev.iterrows():\n",
    "    for i in range(len(row['conversation']) - 1):\n",
    "        df_train.append({'question': row['conversation'][i], 'response': row['conversation'][i+1]})\n",
    "\n",
    "df_train = pd.DataFrame(df_train)\n",
    "df_train"
   ]
  },
  {
   "cell_type": "code",
   "execution_count": 164,
   "metadata": {},
   "outputs": [
    {
     "data": {
      "text/plain": [
       "conversation    [Olá, estou procurando por um filme como o Super Troopers (2001)., Você deveria assistir Police Academy  (1984)., É um grande? Eu nunca vi isso. Eu já vi American Pie ., Eu quero dizer American Pie  (1999), Sim, Police Academy  (1984) é muito engraçado e Police Academy 2: Their First Assignment (1985) também., Parece que eu preciso dar uma olhada neles., Sim, você vai gostar deles., Eu agradeço seu tempo. Eu precisarei dar uma olhada nisso. Existem outros que você recomendaria?, Sim Lethal Weapon (1987), Obrigado, eu também vou assistir isso., E também Beverly Hills Cop (1984), Obrigado pelas sugestões., Você é bem-vindo, E também 48 Hrs. (1982), Obrigado, adeus.]\n",
       "Name: 0, dtype: object"
      ]
     },
     "execution_count": 164,
     "metadata": {},
     "output_type": "execute_result"
    }
   ],
   "source": [
    "df_dev.iloc[0]"
   ]
  },
  {
   "cell_type": "code",
   "execution_count": 176,
   "metadata": {},
   "outputs": [
    {
     "data": {
      "text/html": [
       "<div>\n",
       "<style scoped>\n",
       "    .dataframe tbody tr th:only-of-type {\n",
       "        vertical-align: middle;\n",
       "    }\n",
       "\n",
       "    .dataframe tbody tr th {\n",
       "        vertical-align: top;\n",
       "    }\n",
       "\n",
       "    .dataframe thead th {\n",
       "        text-align: right;\n",
       "    }\n",
       "</style>\n",
       "<table border=\"1\" class=\"dataframe\">\n",
       "  <thead>\n",
       "    <tr style=\"text-align: right;\">\n",
       "      <th></th>\n",
       "      <th>conversation</th>\n",
       "      <th>question</th>\n",
       "      <th>response</th>\n",
       "    </tr>\n",
       "  </thead>\n",
       "  <tbody>\n",
       "    <tr>\n",
       "      <th>0</th>\n",
       "      <td>Olá, estou procurando por um filme como o Super Troopers (2001).</td>\n",
       "      <td>Olá, estou procurando por um filme como o Super Troopers (2001).</td>\n",
       "      <td>Você deveria assistir Police Academy  (1984).</td>\n",
       "    </tr>\n",
       "    <tr>\n",
       "      <th>0</th>\n",
       "      <td>Você deveria assistir Police Academy  (1984).</td>\n",
       "      <td>Você deveria assistir Police Academy  (1984).</td>\n",
       "      <td>É um grande? Eu nunca vi isso. Eu já vi American Pie .</td>\n",
       "    </tr>\n",
       "    <tr>\n",
       "      <th>0</th>\n",
       "      <td>É um grande? Eu nunca vi isso. Eu já vi American Pie .</td>\n",
       "      <td>É um grande? Eu nunca vi isso. Eu já vi American Pie .</td>\n",
       "      <td>Eu quero dizer American Pie  (1999)</td>\n",
       "    </tr>\n",
       "    <tr>\n",
       "      <th>0</th>\n",
       "      <td>Eu quero dizer American Pie  (1999)</td>\n",
       "      <td>Eu quero dizer American Pie  (1999)</td>\n",
       "      <td>Sim, Police Academy  (1984) é muito engraçado e Police Academy 2: Their First Assignment (1985) também.</td>\n",
       "    </tr>\n",
       "    <tr>\n",
       "      <th>0</th>\n",
       "      <td>Sim, Police Academy  (1984) é muito engraçado e Police Academy 2: Their First Assignment (1985) também.</td>\n",
       "      <td>Sim, Police Academy  (1984) é muito engraçado e Police Academy 2: Their First Assignment (1985) também.</td>\n",
       "      <td>Parece que eu preciso dar uma olhada neles.</td>\n",
       "    </tr>\n",
       "    <tr>\n",
       "      <th>...</th>\n",
       "      <td>...</td>\n",
       "      <td>...</td>\n",
       "      <td>...</td>\n",
       "    </tr>\n",
       "    <tr>\n",
       "      <th>4</th>\n",
       "      <td>X-Men: The Last Stand (2006) Foi outro bom filme dos X-Men.</td>\n",
       "      <td>X-Men: The Last Stand (2006) Foi outro bom filme dos X-Men.</td>\n",
       "      <td>Okay, obrigado!</td>\n",
       "    </tr>\n",
       "    <tr>\n",
       "      <th>4</th>\n",
       "      <td>Okay, obrigado!</td>\n",
       "      <td>Okay, obrigado!</td>\n",
       "      <td>Oh, tem tantas coisas</td>\n",
       "    </tr>\n",
       "    <tr>\n",
       "      <th>4</th>\n",
       "      <td>Oh, tem tantas coisas</td>\n",
       "      <td>Oh, tem tantas coisas</td>\n",
       "      <td>Obrigado.</td>\n",
       "    </tr>\n",
       "    <tr>\n",
       "      <th>4</th>\n",
       "      <td>Obrigado.</td>\n",
       "      <td>Obrigado.</td>\n",
       "      <td>Adeus</td>\n",
       "    </tr>\n",
       "    <tr>\n",
       "      <th>4</th>\n",
       "      <td>Adeus</td>\n",
       "      <td>Adeus</td>\n",
       "      <td>None</td>\n",
       "    </tr>\n",
       "  </tbody>\n",
       "</table>\n",
       "<p>84 rows × 3 columns</p>\n",
       "</div>"
      ],
      "text/plain": [
       "                                                                                               conversation   \n",
       "0                                          Olá, estou procurando por um filme como o Super Troopers (2001).  \\\n",
       "0                                                             Você deveria assistir Police Academy  (1984).   \n",
       "0                                                    É um grande? Eu nunca vi isso. Eu já vi American Pie .   \n",
       "0                                                                       Eu quero dizer American Pie  (1999)   \n",
       "0   Sim, Police Academy  (1984) é muito engraçado e Police Academy 2: Their First Assignment (1985) também.   \n",
       "..                                                                                                      ...   \n",
       "4                                               X-Men: The Last Stand (2006) Foi outro bom filme dos X-Men.   \n",
       "4                                                                                           Okay, obrigado!   \n",
       "4                                                                                     Oh, tem tantas coisas   \n",
       "4                                                                                                 Obrigado.   \n",
       "4                                                                                                     Adeus   \n",
       "\n",
       "                                                                                                   question   \n",
       "0                                          Olá, estou procurando por um filme como o Super Troopers (2001).  \\\n",
       "0                                                             Você deveria assistir Police Academy  (1984).   \n",
       "0                                                    É um grande? Eu nunca vi isso. Eu já vi American Pie .   \n",
       "0                                                                       Eu quero dizer American Pie  (1999)   \n",
       "0   Sim, Police Academy  (1984) é muito engraçado e Police Academy 2: Their First Assignment (1985) também.   \n",
       "..                                                                                                      ...   \n",
       "4                                               X-Men: The Last Stand (2006) Foi outro bom filme dos X-Men.   \n",
       "4                                                                                           Okay, obrigado!   \n",
       "4                                                                                     Oh, tem tantas coisas   \n",
       "4                                                                                                 Obrigado.   \n",
       "4                                                                                                     Adeus   \n",
       "\n",
       "                                                                                                   response  \n",
       "0                                                             Você deveria assistir Police Academy  (1984).  \n",
       "0                                                    É um grande? Eu nunca vi isso. Eu já vi American Pie .  \n",
       "0                                                                       Eu quero dizer American Pie  (1999)  \n",
       "0   Sim, Police Academy  (1984) é muito engraçado e Police Academy 2: Their First Assignment (1985) também.  \n",
       "0                                                               Parece que eu preciso dar uma olhada neles.  \n",
       "..                                                                                                      ...  \n",
       "4                                                                                           Okay, obrigado!  \n",
       "4                                                                                     Oh, tem tantas coisas  \n",
       "4                                                                                                 Obrigado.  \n",
       "4                                                                                                     Adeus  \n",
       "4                                                                                                      None  \n",
       "\n",
       "[84 rows x 3 columns]"
      ]
     },
     "execution_count": 176,
     "metadata": {},
     "output_type": "execute_result"
    }
   ],
   "source": [
    "df_dev"
   ]
  },
  {
   "cell_type": "code",
   "execution_count": 158,
   "metadata": {},
   "outputs": [
    {
     "data": {
      "text/html": [
       "<div>\n",
       "<style scoped>\n",
       "    .dataframe tbody tr th:only-of-type {\n",
       "        vertical-align: middle;\n",
       "    }\n",
       "\n",
       "    .dataframe tbody tr th {\n",
       "        vertical-align: top;\n",
       "    }\n",
       "\n",
       "    .dataframe thead th {\n",
       "        text-align: right;\n",
       "    }\n",
       "</style>\n",
       "<table border=\"1\" class=\"dataframe\">\n",
       "  <thead>\n",
       "    <tr style=\"text-align: right;\">\n",
       "      <th></th>\n",
       "      <th>conversation</th>\n",
       "    </tr>\n",
       "  </thead>\n",
       "  <tbody>\n",
       "    <tr>\n",
       "      <th>0</th>\n",
       "      <td>[Olá, estou procurando por um filme como o Super Troopers (2001)., Você deveria assistir Police Academy  (1984)., É um grande? Eu nunca vi isso. Eu já vi American Pie ., Eu quero dizer American Pie  (1999), Sim, Police Academy  (1984) é muito engraçado e Police Academy 2: Their First Assignment (1985) também., Parece que eu preciso dar uma olhada neles., Sim, você vai gostar deles., Eu agradeço seu tempo. Eu precisarei dar uma olhada nisso. Existem outros que você recomendaria?, Sim Lethal Weapon (1987), Obrigado, eu também vou assistir isso., E também Beverly Hills Cop (1984), Obrigado pelas sugestões., Você é bem-vindo, E também 48 Hrs. (1982), Obrigado, adeus.]</td>\n",
       "    </tr>\n",
       "    <tr>\n",
       "      <th>1</th>\n",
       "      <td>[Olá!, Olá!, Qual tipo de filmes você gosta?, Procuro uma recomendação de filme. Quando eu era mais jovem, eu realmente gostei muito do A Nightmare on Elm Street (1984)., Oh, você gosta de filmes de terror?, Recentemente, eu assisti Happy Death Day  (2017)., Eu também gostei de assistir The Last House on the Left  (1972), Foi realmente bom para um novo \"filme de terror\"., Eu gosto de alguns dos filmes de terror mais recentes que eu vi também., Ouvi dizer que o A Quiet Place (2018) é bom. Ele ainda está em cartaz nos cinemas, no entanto., Eu gostei muito do filme., Eu também!, Era realmente assustador, mas eu achei bom!, Eu vi esse filme no cinema, ele foi muito bom. Ele me deixou na ponta da cadeira durante todo o filme., Não tenho certeza se vi aquilo, preciso verificar. Parece familiar, mas não tenho certeza. Obrigado pelas suas sugestões!, Existem algumas comédias que você sugere?, Claro! Eu gosto muito de comédias. Eu gosto de filmes como Hot Tub Time Machine e Super Troopers (2001), mas eu também gosto de Identity Thief (2013) e The Heat  (2013)., Maravilhoso! Muito obrigado, acho que estou pronto para a noite de cinema agora., Sem problemas! Obrigado também! :)]</td>\n",
       "    </tr>\n",
       "    <tr>\n",
       "      <th>2</th>\n",
       "      <td>[Me diga o que você gostaria de assistir?, Easy A (2010), Você assistiu ao Avengers: Infinity War (2018)?, Or The Black Panthers: Vanguard of the Revolution (2015) ?, Eu realmente gostei disso., Eu acho que eu gostaria de assistir Easy A (2010)., É engraçado, Mas você já sabe o que quer assistir, Você deveria me dizer que tipo de filmes você gosta., Você assistiu ao Click  (2006)?, Você gosta de filmes de terror?, Você assistiu ao It  (2017)?, Sim, eu gosto do Adam Sandler. O The Waterboy (1998) é outro bom filme dele., Eu não vi o filme., Sim, acho que sim., Espero ter ajudado., Adeus]</td>\n",
       "    </tr>\n",
       "    <tr>\n",
       "      <th>3</th>\n",
       "      <td>[Eu gostaria de assistir a qualquer filme., Me diga qualquer filme., Gostei do seu post Avengers: Infinity War (2018)., Você viu The Avengers  (2012)?, Eu realmente gostei daquele., Sim e eu gostei disso., Qual outro você me recomendaria?, Você gosta de coisas assustadoras?, Você viu It  (2017)?, Eu assisti ao vídeo Iron Man 2 (2010) e gostei dele., Ou Cabin by the Lake (2000), Não, eu não vi It  (2017)., Mas eu vou tentar., Obrigado por me ajudar., Adeus, Se você gosta de super-heróis, o Ant-Man  (2015) também é uma ótima opção., Adeus]</td>\n",
       "    </tr>\n",
       "    <tr>\n",
       "      <th>4</th>\n",
       "      <td>[Qual tipo de filmes você gosta?, Você viu o Avengers: Infinity War (2018)?, Ou Spider-Man  (2002), Eu também gostei deles., Essas são incríveis., Eu gosto desse tipo de filmes, X-Men: First Class (2011), Eu também assisti Iron Man  (2008)., Esses também são bons filmes., Não, eu não assisti aquele., Acho que vou tentar esse., X-Men: The Last Stand (2006) Foi outro bom filme dos X-Men., Okay, obrigado!, Oh, tem tantas coisas, Obrigado., Adeus]</td>\n",
       "    </tr>\n",
       "  </tbody>\n",
       "</table>\n",
       "</div>"
      ],
      "text/plain": [
       "                                                                                                                                                                                                                                                                                                                                                                                                                                                                                                                                                                                                                                                                                                                                                                                                                                                                                                                                                                                                                                                                                                                                                                                                                         conversation\n",
       "0                                                                                                                                                                                                                                                                                                                                                                                                                                                                                                                                    [Olá, estou procurando por um filme como o Super Troopers (2001)., Você deveria assistir Police Academy  (1984)., É um grande? Eu nunca vi isso. Eu já vi American Pie ., Eu quero dizer American Pie  (1999), Sim, Police Academy  (1984) é muito engraçado e Police Academy 2: Their First Assignment (1985) também., Parece que eu preciso dar uma olhada neles., Sim, você vai gostar deles., Eu agradeço seu tempo. Eu precisarei dar uma olhada nisso. Existem outros que você recomendaria?, Sim Lethal Weapon (1987), Obrigado, eu também vou assistir isso., E também Beverly Hills Cop (1984), Obrigado pelas sugestões., Você é bem-vindo, E também 48 Hrs. (1982), Obrigado, adeus.]\n",
       "1  [Olá!, Olá!, Qual tipo de filmes você gosta?, Procuro uma recomendação de filme. Quando eu era mais jovem, eu realmente gostei muito do A Nightmare on Elm Street (1984)., Oh, você gosta de filmes de terror?, Recentemente, eu assisti Happy Death Day  (2017)., Eu também gostei de assistir The Last House on the Left  (1972), Foi realmente bom para um novo \"filme de terror\"., Eu gosto de alguns dos filmes de terror mais recentes que eu vi também., Ouvi dizer que o A Quiet Place (2018) é bom. Ele ainda está em cartaz nos cinemas, no entanto., Eu gostei muito do filme., Eu também!, Era realmente assustador, mas eu achei bom!, Eu vi esse filme no cinema, ele foi muito bom. Ele me deixou na ponta da cadeira durante todo o filme., Não tenho certeza se vi aquilo, preciso verificar. Parece familiar, mas não tenho certeza. Obrigado pelas suas sugestões!, Existem algumas comédias que você sugere?, Claro! Eu gosto muito de comédias. Eu gosto de filmes como Hot Tub Time Machine e Super Troopers (2001), mas eu também gosto de Identity Thief (2013) e The Heat  (2013)., Maravilhoso! Muito obrigado, acho que estou pronto para a noite de cinema agora., Sem problemas! Obrigado também! :)]\n",
       "2                                                                                                                                                                                                                                                                                                                                                                                                                                                                                                                                                                                                                   [Me diga o que você gostaria de assistir?, Easy A (2010), Você assistiu ao Avengers: Infinity War (2018)?, Or The Black Panthers: Vanguard of the Revolution (2015) ?, Eu realmente gostei disso., Eu acho que eu gostaria de assistir Easy A (2010)., É engraçado, Mas você já sabe o que quer assistir, Você deveria me dizer que tipo de filmes você gosta., Você assistiu ao Click  (2006)?, Você gosta de filmes de terror?, Você assistiu ao It  (2017)?, Sim, eu gosto do Adam Sandler. O The Waterboy (1998) é outro bom filme dele., Eu não vi o filme., Sim, acho que sim., Espero ter ajudado., Adeus]\n",
       "3                                                                                                                                                                                                                                                                                                                                                                                                                                                                                                                                                                                                                                                                     [Eu gostaria de assistir a qualquer filme., Me diga qualquer filme., Gostei do seu post Avengers: Infinity War (2018)., Você viu The Avengers  (2012)?, Eu realmente gostei daquele., Sim e eu gostei disso., Qual outro você me recomendaria?, Você gosta de coisas assustadoras?, Você viu It  (2017)?, Eu assisti ao vídeo Iron Man 2 (2010) e gostei dele., Ou Cabin by the Lake (2000), Não, eu não vi It  (2017)., Mas eu vou tentar., Obrigado por me ajudar., Adeus, Se você gosta de super-heróis, o Ant-Man  (2015) também é uma ótima opção., Adeus]\n",
       "4                                                                                                                                                                                                                                                                                                                                                                                                                                                                                                                                                                                                                                                                                                                                                                     [Qual tipo de filmes você gosta?, Você viu o Avengers: Infinity War (2018)?, Ou Spider-Man  (2002), Eu também gostei deles., Essas são incríveis., Eu gosto desse tipo de filmes, X-Men: First Class (2011), Eu também assisti Iron Man  (2008)., Esses também são bons filmes., Não, eu não assisti aquele., Acho que vou tentar esse., X-Men: The Last Stand (2006) Foi outro bom filme dos X-Men., Okay, obrigado!, Oh, tem tantas coisas, Obrigado., Adeus]"
      ]
     },
     "execution_count": 158,
     "metadata": {},
     "output_type": "execute_result"
    }
   ],
   "source": [
    "pd.set_option('display.max_colwidth', None)\n",
    "df_dev"
   ]
  },
  {
   "cell_type": "code",
   "execution_count": null,
   "metadata": {},
   "outputs": [],
   "source": [
    "def generate_sample(conversation):\n",
    "    results = []\n",
    "    for message in conversation:\n",
    "        processed_example = \"<|system|>\\n Você é um chatbot de recomendação de filmes, converse com o usuário para indicar filmes apropriados.</s>\\n<|user|>\\n\" + example[self.config.INSTRUCTION_FIELD] + \"</s>\\n<|assistant|>\\n\" + example[self.config.TARGET_FIELD]\n"
   ]
  }
 ],
 "metadata": {
  "kernelspec": {
   "display_name": "torch_2.0",
   "language": "python",
   "name": "python3"
  },
  "language_info": {
   "codemirror_mode": {
    "name": "ipython",
    "version": 3
   },
   "file_extension": ".py",
   "mimetype": "text/x-python",
   "name": "python",
   "nbconvert_exporter": "python",
   "pygments_lexer": "ipython3",
   "version": "3.10.9"
  },
  "orig_nbformat": 4
 },
 "nbformat": 4,
 "nbformat_minor": 2
}
