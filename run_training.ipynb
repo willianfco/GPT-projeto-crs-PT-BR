{
 "cells": [
  {
   "cell_type": "markdown",
   "metadata": {},
   "source": [
    "### Verify Processed"
   ]
  },
  {
   "cell_type": "code",
   "execution_count": 1,
   "metadata": {},
   "outputs": [
    {
     "name": "stdout",
     "output_type": "stream",
     "text": [
      "total de linhas: 1342\n"
     ]
    }
   ],
   "source": [
    "import pandas as pd\n",
    "\n",
    "interim_path = 'data/test/translated_ds_011.parquet'\n",
    "\n",
    "df = pd.read_parquet(interim_path)\n",
    "print(f'total de linhas: {len(df)}')\n"
   ]
  },
  {
   "cell_type": "code",
   "execution_count": 2,
   "metadata": {},
   "outputs": [
    {
     "data": {
      "text/plain": [
       "array([{'messageId': 220812, 'senderWorkerId': 1057, 'text': 'Oi', 'timeOffset': 0},\n",
       "       {'messageId': 220813, 'senderWorkerId': 1057, 'text': 'Como você está?', 'timeOffset': 4},\n",
       "       {'messageId': 220816, 'senderWorkerId': 1049, 'text': 'Olá', 'timeOffset': 14},\n",
       "       {'messageId': 220817, 'senderWorkerId': 1049, 'text': 'Qual é o seu filme favorito?', 'timeOffset': 45},\n",
       "       {'messageId': 220821, 'senderWorkerId': 1057, 'text': 'Ou @134106 ou @148871.', 'timeOffset': 79},\n",
       "       {'messageId': 220824, 'senderWorkerId': 1057, 'text': '@187028 Foi bom também.', 'timeOffset': 107},\n",
       "       {'messageId': 220830, 'senderWorkerId': 1049, 'text': 'Você já viu o @86397? Além disso, o @100646 é um bom filme.', 'timeOffset': 203},\n",
       "       {'messageId': 220831, 'senderWorkerId': 1057, 'text': 'Eu gostei de Batman Forever, nunca vi Deep Impact.', 'timeOffset': 228},\n",
       "       {'messageId': 220832, 'senderWorkerId': 1057, 'text': 'Vou ter que dar uma olhada', 'timeOffset': 231},\n",
       "       {'messageId': 220833, 'senderWorkerId': 1057, 'text': 'Eu sei que eu ouvi falar dele ao longo dos anos', 'timeOffset': 236},\n",
       "       {'messageId': 220835, 'senderWorkerId': 1049, 'text': 'ótimo!', 'timeOffset': 261},\n",
       "       {'messageId': 220836, 'senderWorkerId': 1049, 'text': 'Tenha uma boa noite!', 'timeOffset': 268},\n",
       "       {'messageId': 220837, 'senderWorkerId': 1057, 'text': 'Você também!', 'timeOffset': 273}],\n",
       "      dtype=object)"
      ]
     },
     "execution_count": 2,
     "metadata": {},
     "output_type": "execute_result"
    }
   ],
   "source": [
    "df.messages_translated.sample(1).values[0]"
   ]
  },
  {
   "cell_type": "markdown",
   "metadata": {},
   "source": [
    "### Example generating batchs samples"
   ]
  },
  {
   "cell_type": "code",
   "execution_count": 3,
   "metadata": {},
   "outputs": [],
   "source": [
    "movies = pd.DataFrame(df['movieMentions'].explode().to_list()).drop_duplicates()"
   ]
  },
  {
   "cell_type": "code",
   "execution_count": 4,
   "metadata": {},
   "outputs": [],
   "source": [
    "import re\n",
    "def id2text(text):\n",
    "    for movie_id in re.findall(r'@\\d+', text):\n",
    "        movie_name = movies[movies['movieId'] == movie_id[1:]]['movieName'].iloc[0]\n",
    "        text = text.replace(movie_id, movie_name)\n",
    "    return text"
   ]
  },
  {
   "cell_type": "code",
   "execution_count": 5,
   "metadata": {},
   "outputs": [],
   "source": [
    "df_dev = df.head()\n",
    "df_dev = df_dev[['messages_translated']]\n",
    "df_dev['conversation'] = df_dev['messages_translated'].apply(lambda x: [id2text(message['text']) for message in x])\n",
    "df_dev.drop(columns=['messages_translated'], inplace=True)"
   ]
  },
  {
   "cell_type": "code",
   "execution_count": 6,
   "metadata": {},
   "outputs": [
    {
     "data": {
      "text/html": [
       "<div>\n",
       "<style scoped>\n",
       "    .dataframe tbody tr th:only-of-type {\n",
       "        vertical-align: middle;\n",
       "    }\n",
       "\n",
       "    .dataframe tbody tr th {\n",
       "        vertical-align: top;\n",
       "    }\n",
       "\n",
       "    .dataframe thead th {\n",
       "        text-align: right;\n",
       "    }\n",
       "</style>\n",
       "<table border=\"1\" class=\"dataframe\">\n",
       "  <thead>\n",
       "    <tr style=\"text-align: right;\">\n",
       "      <th></th>\n",
       "      <th>question</th>\n",
       "      <th>response</th>\n",
       "    </tr>\n",
       "  </thead>\n",
       "  <tbody>\n",
       "    <tr>\n",
       "      <th>0</th>\n",
       "      <td>Olá, estou procurando por um filme como o Supe...</td>\n",
       "      <td>Você deveria assistir Police Academy  (1984).</td>\n",
       "    </tr>\n",
       "    <tr>\n",
       "      <th>1</th>\n",
       "      <td>Você deveria assistir Police Academy  (1984).</td>\n",
       "      <td>É um grande? Eu nunca vi isso. Eu já vi Americ...</td>\n",
       "    </tr>\n",
       "    <tr>\n",
       "      <th>2</th>\n",
       "      <td>É um grande? Eu nunca vi isso. Eu já vi Americ...</td>\n",
       "      <td>Eu quero dizer American Pie  (1999)</td>\n",
       "    </tr>\n",
       "    <tr>\n",
       "      <th>3</th>\n",
       "      <td>Eu quero dizer American Pie  (1999)</td>\n",
       "      <td>Sim, Police Academy  (1984) é muito engraçado ...</td>\n",
       "    </tr>\n",
       "    <tr>\n",
       "      <th>4</th>\n",
       "      <td>Sim, Police Academy  (1984) é muito engraçado ...</td>\n",
       "      <td>Parece que eu preciso dar uma olhada neles.</td>\n",
       "    </tr>\n",
       "    <tr>\n",
       "      <th>...</th>\n",
       "      <td>...</td>\n",
       "      <td>...</td>\n",
       "    </tr>\n",
       "    <tr>\n",
       "      <th>74</th>\n",
       "      <td>Acho que vou tentar esse.</td>\n",
       "      <td>X-Men: The Last Stand (2006) Foi outro bom fil...</td>\n",
       "    </tr>\n",
       "    <tr>\n",
       "      <th>75</th>\n",
       "      <td>X-Men: The Last Stand (2006) Foi outro bom fil...</td>\n",
       "      <td>Okay, obrigado!</td>\n",
       "    </tr>\n",
       "    <tr>\n",
       "      <th>76</th>\n",
       "      <td>Okay, obrigado!</td>\n",
       "      <td>Oh, tem tantas coisas</td>\n",
       "    </tr>\n",
       "    <tr>\n",
       "      <th>77</th>\n",
       "      <td>Oh, tem tantas coisas</td>\n",
       "      <td>Obrigado.</td>\n",
       "    </tr>\n",
       "    <tr>\n",
       "      <th>78</th>\n",
       "      <td>Obrigado.</td>\n",
       "      <td>Adeus</td>\n",
       "    </tr>\n",
       "  </tbody>\n",
       "</table>\n",
       "<p>79 rows × 2 columns</p>\n",
       "</div>"
      ],
      "text/plain": [
       "                                             question   \n",
       "0   Olá, estou procurando por um filme como o Supe...  \\\n",
       "1       Você deveria assistir Police Academy  (1984).   \n",
       "2   É um grande? Eu nunca vi isso. Eu já vi Americ...   \n",
       "3                 Eu quero dizer American Pie  (1999)   \n",
       "4   Sim, Police Academy  (1984) é muito engraçado ...   \n",
       "..                                                ...   \n",
       "74                          Acho que vou tentar esse.   \n",
       "75  X-Men: The Last Stand (2006) Foi outro bom fil...   \n",
       "76                                    Okay, obrigado!   \n",
       "77                              Oh, tem tantas coisas   \n",
       "78                                          Obrigado.   \n",
       "\n",
       "                                             response  \n",
       "0       Você deveria assistir Police Academy  (1984).  \n",
       "1   É um grande? Eu nunca vi isso. Eu já vi Americ...  \n",
       "2                 Eu quero dizer American Pie  (1999)  \n",
       "3   Sim, Police Academy  (1984) é muito engraçado ...  \n",
       "4         Parece que eu preciso dar uma olhada neles.  \n",
       "..                                                ...  \n",
       "74  X-Men: The Last Stand (2006) Foi outro bom fil...  \n",
       "75                                    Okay, obrigado!  \n",
       "76                              Oh, tem tantas coisas  \n",
       "77                                          Obrigado.  \n",
       "78                                              Adeus  \n",
       "\n",
       "[79 rows x 2 columns]"
      ]
     },
     "execution_count": 6,
     "metadata": {},
     "output_type": "execute_result"
    }
   ],
   "source": [
    "# split question x response explode\n",
    "df_train = []\n",
    "\n",
    "for _, row in df_dev.iterrows():\n",
    "    for i in range(len(row['conversation']) - 1):\n",
    "        df_train.append({'question': row['conversation'][i], 'response': row['conversation'][i+1]})\n",
    "\n",
    "df_train = pd.DataFrame(df_train)\n",
    "df_train"
   ]
  },
  {
   "cell_type": "code",
   "execution_count": 8,
   "metadata": {},
   "outputs": [
    {
     "data": {
      "text/plain": [
       "['Olá, estou procurando por um filme como o Super Troopers (2001).',\n",
       " 'Você deveria assistir Police Academy  (1984).',\n",
       " 'É um grande? Eu nunca vi isso. Eu já vi American Pie .',\n",
       " 'Eu quero dizer American Pie  (1999)',\n",
       " 'Sim, Police Academy  (1984) é muito engraçado e Police Academy 2: Their First Assignment (1985) também.',\n",
       " 'Parece que eu preciso dar uma olhada neles.',\n",
       " 'Sim, você vai gostar deles.',\n",
       " 'Eu agradeço seu tempo. Eu precisarei dar uma olhada nisso. Existem outros que você recomendaria?',\n",
       " 'Sim Lethal Weapon (1987)',\n",
       " 'Obrigado, eu também vou assistir isso.',\n",
       " 'E também Beverly Hills Cop (1984)',\n",
       " 'Obrigado pelas sugestões.',\n",
       " 'Você é bem-vindo',\n",
       " 'E também 48 Hrs. (1982)',\n",
       " 'Obrigado, adeus.']"
      ]
     },
     "execution_count": 8,
     "metadata": {},
     "output_type": "execute_result"
    }
   ],
   "source": [
    "df_dev.iloc[0].values[0]"
   ]
  },
  {
   "cell_type": "code",
   "execution_count": 10,
   "metadata": {},
   "outputs": [
    {
     "data": {
      "text/html": [
       "<style type=\"text/css\">\n",
       "</style>\n",
       "<table id=\"T_ac019\">\n",
       "  <thead>\n",
       "    <tr>\n",
       "      <th class=\"blank level0\" >&nbsp;</th>\n",
       "      <th id=\"T_ac019_level0_col0\" class=\"col_heading level0 col0\" >conversation</th>\n",
       "    </tr>\n",
       "  </thead>\n",
       "  <tbody>\n",
       "    <tr>\n",
       "      <th id=\"T_ac019_level0_row0\" class=\"row_heading level0 row0\" >0</th>\n",
       "      <td id=\"T_ac019_row0_col0\" class=\"data row0 col0\" >['Olá, estou procurando por um filme como o Super Troopers (2001).', 'Você deveria assistir Police Academy  (1984).', 'É um grande? Eu nunca vi isso. Eu já vi American Pie .', 'Eu quero dizer American Pie  (1999)', 'Sim, Police Academy  (1984) é muito engraçado e Police Academy 2: Their First Assignment (1985) também.', 'Parece que eu preciso dar uma olhada neles.', 'Sim, você vai gostar deles.', 'Eu agradeço seu tempo. Eu precisarei dar uma olhada nisso. Existem outros que você recomendaria?', 'Sim Lethal Weapon (1987)', 'Obrigado, eu também vou assistir isso.', 'E também Beverly Hills Cop (1984)', 'Obrigado pelas sugestões.', 'Você é bem-vindo', 'E também 48 Hrs. (1982)', 'Obrigado, adeus.']</td>\n",
       "    </tr>\n",
       "    <tr>\n",
       "      <th id=\"T_ac019_level0_row1\" class=\"row_heading level0 row1\" >1</th>\n",
       "      <td id=\"T_ac019_row1_col0\" class=\"data row1 col0\" >['Olá!', 'Olá!', 'Qual tipo de filmes você gosta?', 'Procuro uma recomendação de filme. Quando eu era mais jovem, eu realmente gostei muito do A Nightmare on Elm Street (1984).', 'Oh, você gosta de filmes de terror?', 'Recentemente, eu assisti Happy Death Day  (2017).', 'Eu também gostei de assistir The Last House on the Left  (1972)', 'Foi realmente bom para um novo \"filme de terror\".', 'Eu gosto de alguns dos filmes de terror mais recentes que eu vi também.', 'Ouvi dizer que o A Quiet Place (2018) é bom. Ele ainda está em cartaz nos cinemas, no entanto.', 'Eu gostei muito do filme.', 'Eu também!', 'Era realmente assustador, mas eu achei bom!', 'Eu vi esse filme no cinema, ele foi muito bom. Ele me deixou na ponta da cadeira durante todo o filme.', 'Não tenho certeza se vi aquilo, preciso verificar. Parece familiar, mas não tenho certeza. Obrigado pelas suas sugestões!', 'Existem algumas comédias que você sugere?', 'Claro! Eu gosto muito de comédias. Eu gosto de filmes como Hot Tub Time Machine e Super Troopers (2001), mas eu também gosto de Identity Thief (2013) e The Heat  (2013).', 'Maravilhoso! Muito obrigado, acho que estou pronto para a noite de cinema agora.', 'Sem problemas! Obrigado também! :)']</td>\n",
       "    </tr>\n",
       "    <tr>\n",
       "      <th id=\"T_ac019_level0_row2\" class=\"row_heading level0 row2\" >2</th>\n",
       "      <td id=\"T_ac019_row2_col0\" class=\"data row2 col0\" >['Me diga o que você gostaria de assistir?', 'Easy A (2010)', 'Você assistiu ao Avengers: Infinity War (2018)?', 'Or The Black Panthers: Vanguard of the Revolution (2015) ?', 'Eu realmente gostei disso.', 'Eu acho que eu gostaria de assistir Easy A (2010).', 'É engraçado', 'Mas você já sabe o que quer assistir', 'Você deveria me dizer que tipo de filmes você gosta.', 'Você assistiu ao Click  (2006)?', 'Você gosta de filmes de terror?', 'Você assistiu ao It  (2017)?', 'Sim, eu gosto do Adam Sandler. O The Waterboy (1998) é outro bom filme dele.', 'Eu não vi o filme.', 'Sim, acho que sim.', 'Espero ter ajudado.', 'Adeus']</td>\n",
       "    </tr>\n",
       "    <tr>\n",
       "      <th id=\"T_ac019_level0_row3\" class=\"row_heading level0 row3\" >3</th>\n",
       "      <td id=\"T_ac019_row3_col0\" class=\"data row3 col0\" >['Eu gostaria de assistir a qualquer filme.', 'Me diga qualquer filme.', 'Gostei do seu post Avengers: Infinity War (2018).', 'Você viu The Avengers  (2012)?', 'Eu realmente gostei daquele.', 'Sim e eu gostei disso.', 'Qual outro você me recomendaria?', 'Você gosta de coisas assustadoras?', 'Você viu It  (2017)?', 'Eu assisti ao vídeo Iron Man 2 (2010) e gostei dele.', 'Ou Cabin by the Lake (2000)', 'Não, eu não vi It  (2017).', 'Mas eu vou tentar.', 'Obrigado por me ajudar.', 'Adeus', 'Se você gosta de super-heróis, o Ant-Man  (2015) também é uma ótima opção.', 'Adeus']</td>\n",
       "    </tr>\n",
       "    <tr>\n",
       "      <th id=\"T_ac019_level0_row4\" class=\"row_heading level0 row4\" >4</th>\n",
       "      <td id=\"T_ac019_row4_col0\" class=\"data row4 col0\" >['Qual tipo de filmes você gosta?', 'Você viu o Avengers: Infinity War (2018)?', 'Ou Spider-Man  (2002)', 'Eu também gostei deles.', 'Essas são incríveis.', 'Eu gosto desse tipo de filmes', 'X-Men: First Class (2011)', 'Eu também assisti Iron Man  (2008).', 'Esses também são bons filmes.', 'Não, eu não assisti aquele.', 'Acho que vou tentar esse.', 'X-Men: The Last Stand (2006) Foi outro bom filme dos X-Men.', 'Okay, obrigado!', 'Oh, tem tantas coisas', 'Obrigado.', 'Adeus']</td>\n",
       "    </tr>\n",
       "  </tbody>\n",
       "</table>\n"
      ],
      "text/plain": [
       "<pandas.io.formats.style.Styler at 0x23012d0b550>"
      ]
     },
     "execution_count": 10,
     "metadata": {},
     "output_type": "execute_result"
    }
   ],
   "source": [
    "df_dev.style"
   ]
  },
  {
   "cell_type": "code",
   "execution_count": 12,
   "metadata": {},
   "outputs": [],
   "source": [
    "def generate_sample(conversation):\n",
    "    results = []\n",
    "    for message in conversation:\n",
    "        processed_example = \"<|system|>\\n Você é um chatbot de recomendação de filmes, converse com o usuário para indicar filmes apropriados.</s>\\n<|user|>\\n\" + example[self.config.INSTRUCTION_FIELD] + \"</s>\\n<|assistant|>\\n\" + example[self.config.TARGET_FIELD]\n"
   ]
  }
 ],
 "metadata": {
  "kernelspec": {
   "display_name": "torch_2.0",
   "language": "python",
   "name": "python3"
  },
  "language_info": {
   "codemirror_mode": {
    "name": "ipython",
    "version": 3
   },
   "file_extension": ".py",
   "mimetype": "text/x-python",
   "name": "python",
   "nbconvert_exporter": "python",
   "pygments_lexer": "ipython3",
   "version": "3.10.11"
  },
  "orig_nbformat": 4
 },
 "nbformat": 4,
 "nbformat_minor": 2
}
